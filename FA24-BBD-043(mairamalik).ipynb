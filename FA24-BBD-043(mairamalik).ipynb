{
 "cells": [
  {
   "cell_type": "code",
   "execution_count": 1,
   "id": "7c337c14",
   "metadata": {},
   "outputs": [
    {
     "name": "stdout",
     "output_type": "stream",
     "text": [
      "Circle area: 78.5\n",
      "Rectangle area: 32\n",
      "Triangle area: 33.0\n"
     ]
    }
   ],
   "source": [
    "#MAIRA MALIK\n",
    "#ROLL NUMBER : FA24-BBD-043\n",
    "#SECTION : A\n",
    "\n",
    "#QUESTION : 9\n",
    "#ALYNA AYAZ\n",
    "#ROLL NUMBER : FA24-BBD-011\n",
    "#SECTION : A\n",
    "\n",
    "#QUESTION NUMBER 9\n",
    "\n",
    "\n",
    "class Shape:\n",
    "    def cal_area(self):\n",
    "        pass\n",
    "\n",
    "class Circle(Shape):\n",
    "    def __init__(self, radius):\n",
    "        self.radius = radius\n",
    "\n",
    "    def cal_area(self):\n",
    "        return 3.14 * self.radius ** 2\n",
    "\n",
    "class Rectangle(Shape):\n",
    "    def __init__(self, width, height):\n",
    "        self.width = width\n",
    "        self.height = height\n",
    "    def cal_area(self):\n",
    "        return self.width * self.height\n",
    "\n",
    "class Triangle(Shape):\n",
    "    def __init__(self, base, height):\n",
    "        self.base = base\n",
    "        self.height = height\n",
    "\n",
    "    def cal_area(self):\n",
    "        return 0.5 * self.base * self.height\n",
    "\n",
    "\n",
    "circle = Circle(5)\n",
    "print(\"Circle area:\", circle.cal_area()) \n",
    "rectangle = Rectangle(8, 4)\n",
    "print(\"Rectangle area:\", rectangle.cal_area())  \n",
    "triangle = Triangle(6, 11)\n",
    "print(\"Triangle area:\", triangle.cal_area()) "
   ]
  },
  {
   "cell_type": "code",
   "execution_count": 2,
   "id": "9ae6b916",
   "metadata": {},
   "outputs": [
    {
     "name": "stdout",
     "output_type": "stream",
     "text": [
      "Bunny says Woof\n",
      "Bubbles says Meow\n",
      "Bablu says Moo\n"
     ]
    }
   ],
   "source": [
    "#QUESTION NUMBER : 10\n",
    "\n",
    "class animal:\n",
    "    def __init__(self, name , sound):\n",
    "        self.name = name\n",
    "        self.sound = sound \n",
    "    \n",
    "    def make_sound(self):\n",
    "        return f\"{self.name} says {self.sound}\"\n",
    "\n",
    "class dog(animal):\n",
    "    def __init__(self, name):\n",
    "        self.name = name\n",
    "        self.sound = \"Woof\"\n",
    "\n",
    "class cat(animal):\n",
    "    def __init__(self, name):\n",
    "        self.name = name\n",
    "        self.sound = \"Meow\"\n",
    "\n",
    "class cow(animal):\n",
    "    def __init__(self, name):\n",
    "        self.name = name\n",
    "        self.sound = \"Moo\"\n",
    "\n",
    "\n",
    "dog = dog(\"Bunny\")\n",
    "print(dog.make_sound())\n",
    "\n",
    "cat = cat(\"Bubbles\")\n",
    "print(cat.make_sound())\n",
    "\n",
    "cow = cow(\"Bablu\")\n",
    "print(cow.make_sound())"
   ]
  },
  {
   "cell_type": "code",
   "execution_count": null,
   "id": "14defd01",
   "metadata": {},
   "outputs": [],
   "source": []
  }
 ],
 "metadata": {
  "kernelspec": {
   "display_name": "Python 3 (ipykernel)",
   "language": "python",
   "name": "python3"
  },
  "language_info": {
   "codemirror_mode": {
    "name": "ipython",
    "version": 3
   },
   "file_extension": ".py",
   "mimetype": "text/x-python",
   "name": "python",
   "nbconvert_exporter": "python",
   "pygments_lexer": "ipython3",
   "version": "3.11.5"
  }
 },
 "nbformat": 4,
 "nbformat_minor": 5
}
